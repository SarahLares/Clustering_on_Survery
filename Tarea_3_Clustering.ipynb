{
  "nbformat": 4,
  "nbformat_minor": 0,
  "metadata": {
    "colab": {
      "name": "Tarea_3_Clustering.ipynb",
      "provenance": [],
      "collapsed_sections": [],
      "authorship_tag": "ABX9TyNVpmzrv5Y7HXugiDRa1oDQ",
      "include_colab_link": true
    },
    "kernelspec": {
      "name": "python3",
      "display_name": "Python 3"
    }
  },
  "cells": [
    {
      "cell_type": "markdown",
      "metadata": {
        "id": "view-in-github",
        "colab_type": "text"
      },
      "source": [
        "<a href=\"https://colab.research.google.com/github/SarahLares/Clustering_on_Survery/blob/master/Tarea_3_Clustering.ipynb\" target=\"_parent\"><img src=\"https://colab.research.google.com/assets/colab-badge.svg\" alt=\"Open In Colab\"/></a>"
      ]
    },
    {
      "cell_type": "code",
      "metadata": {
        "id": "kKwsYZ7qAXH3",
        "colab_type": "code",
        "colab": {}
      },
      "source": [
        "import pandas as pd"
      ],
      "execution_count": 0,
      "outputs": []
    },
    {
      "cell_type": "markdown",
      "metadata": {
        "id": "7p5SPlxSBtmr",
        "colab_type": "text"
      },
      "source": [
        "## Importamos la Data"
      ]
    },
    {
      "cell_type": "code",
      "metadata": {
        "id": "x85raLYuBsvG",
        "colab_type": "code",
        "colab": {}
      },
      "source": [
        "url = 'https://raw.githubusercontent.com/SarahLares/Clustering_on_Survery/master/turkiye-student-evaluation_generic.csv'\n",
        "df = pd.read_csv(url) "
      ],
      "execution_count": 0,
      "outputs": []
    },
    {
      "cell_type": "code",
      "metadata": {
        "id": "TuIHThKnCye7",
        "colab_type": "code",
        "outputId": "fed814ad-7679-410f-81ed-450348564ea4",
        "colab": {
          "base_uri": "https://localhost:8080/",
          "height": 34
        }
      },
      "source": [
        "df.shape"
      ],
      "execution_count": 0,
      "outputs": [
        {
          "output_type": "execute_result",
          "data": {
            "text/plain": [
              "(5820, 33)"
            ]
          },
          "metadata": {
            "tags": []
          },
          "execution_count": 4
        }
      ]
    },
    {
      "cell_type": "code",
      "metadata": {
        "id": "qtASsO3aDAD6",
        "colab_type": "code",
        "outputId": "0583bbfe-8248-4233-e661-e804f2a5807a",
        "colab": {
          "base_uri": "https://localhost:8080/",
          "height": 317
        }
      },
      "source": [
        "df.describe()"
      ],
      "execution_count": 0,
      "outputs": [
        {
          "output_type": "execute_result",
          "data": {
            "text/html": [
              "<div>\n",
              "<style scoped>\n",
              "    .dataframe tbody tr th:only-of-type {\n",
              "        vertical-align: middle;\n",
              "    }\n",
              "\n",
              "    .dataframe tbody tr th {\n",
              "        vertical-align: top;\n",
              "    }\n",
              "\n",
              "    .dataframe thead th {\n",
              "        text-align: right;\n",
              "    }\n",
              "</style>\n",
              "<table border=\"1\" class=\"dataframe\">\n",
              "  <thead>\n",
              "    <tr style=\"text-align: right;\">\n",
              "      <th></th>\n",
              "      <th>instr</th>\n",
              "      <th>class</th>\n",
              "      <th>nb.repeat</th>\n",
              "      <th>attendance</th>\n",
              "      <th>difficulty</th>\n",
              "      <th>Q1</th>\n",
              "      <th>Q2</th>\n",
              "      <th>Q3</th>\n",
              "      <th>Q4</th>\n",
              "      <th>Q5</th>\n",
              "      <th>Q6</th>\n",
              "      <th>Q7</th>\n",
              "      <th>Q8</th>\n",
              "      <th>Q9</th>\n",
              "      <th>Q10</th>\n",
              "      <th>Q11</th>\n",
              "      <th>Q12</th>\n",
              "      <th>Q13</th>\n",
              "      <th>Q14</th>\n",
              "      <th>Q15</th>\n",
              "      <th>Q16</th>\n",
              "      <th>Q17</th>\n",
              "      <th>Q18</th>\n",
              "      <th>Q19</th>\n",
              "      <th>Q20</th>\n",
              "      <th>Q21</th>\n",
              "      <th>Q22</th>\n",
              "      <th>Q23</th>\n",
              "      <th>Q24</th>\n",
              "      <th>Q25</th>\n",
              "      <th>Q26</th>\n",
              "      <th>Q27</th>\n",
              "      <th>Q28</th>\n",
              "    </tr>\n",
              "  </thead>\n",
              "  <tbody>\n",
              "    <tr>\n",
              "      <th>count</th>\n",
              "      <td>5820.000000</td>\n",
              "      <td>5820.000000</td>\n",
              "      <td>5820.000000</td>\n",
              "      <td>5820.000000</td>\n",
              "      <td>5820.000000</td>\n",
              "      <td>5820.000000</td>\n",
              "      <td>5820.000000</td>\n",
              "      <td>5820.000000</td>\n",
              "      <td>5820.000000</td>\n",
              "      <td>5820.000000</td>\n",
              "      <td>5820.000000</td>\n",
              "      <td>5820.000000</td>\n",
              "      <td>5820.000000</td>\n",
              "      <td>5820.000000</td>\n",
              "      <td>5820.000000</td>\n",
              "      <td>5820.000000</td>\n",
              "      <td>5820.000000</td>\n",
              "      <td>5820.000000</td>\n",
              "      <td>5820.000000</td>\n",
              "      <td>5820.000000</td>\n",
              "      <td>5820.000000</td>\n",
              "      <td>5820.000000</td>\n",
              "      <td>5820.000000</td>\n",
              "      <td>5820.000000</td>\n",
              "      <td>5820.000000</td>\n",
              "      <td>5820.000000</td>\n",
              "      <td>5820.000000</td>\n",
              "      <td>5820.00000</td>\n",
              "      <td>5820.000000</td>\n",
              "      <td>5820.000000</td>\n",
              "      <td>5820.000000</td>\n",
              "      <td>5820.000000</td>\n",
              "      <td>5820.000000</td>\n",
              "    </tr>\n",
              "    <tr>\n",
              "      <th>mean</th>\n",
              "      <td>2.485567</td>\n",
              "      <td>7.276289</td>\n",
              "      <td>1.214089</td>\n",
              "      <td>1.675601</td>\n",
              "      <td>2.783505</td>\n",
              "      <td>2.929897</td>\n",
              "      <td>3.073883</td>\n",
              "      <td>3.178694</td>\n",
              "      <td>3.082474</td>\n",
              "      <td>3.105842</td>\n",
              "      <td>3.107388</td>\n",
              "      <td>3.066323</td>\n",
              "      <td>3.041924</td>\n",
              "      <td>3.165979</td>\n",
              "      <td>3.090722</td>\n",
              "      <td>3.183849</td>\n",
              "      <td>3.035567</td>\n",
              "      <td>3.242784</td>\n",
              "      <td>3.290893</td>\n",
              "      <td>3.287285</td>\n",
              "      <td>3.169588</td>\n",
              "      <td>3.398454</td>\n",
              "      <td>3.222509</td>\n",
              "      <td>3.261684</td>\n",
              "      <td>3.285395</td>\n",
              "      <td>3.307388</td>\n",
              "      <td>3.317526</td>\n",
              "      <td>3.20189</td>\n",
              "      <td>3.166838</td>\n",
              "      <td>3.312543</td>\n",
              "      <td>3.222165</td>\n",
              "      <td>3.154811</td>\n",
              "      <td>3.308076</td>\n",
              "    </tr>\n",
              "    <tr>\n",
              "      <th>std</th>\n",
              "      <td>0.718473</td>\n",
              "      <td>3.688175</td>\n",
              "      <td>0.532376</td>\n",
              "      <td>1.474975</td>\n",
              "      <td>1.348987</td>\n",
              "      <td>1.341077</td>\n",
              "      <td>1.285251</td>\n",
              "      <td>1.253567</td>\n",
              "      <td>1.284594</td>\n",
              "      <td>1.278989</td>\n",
              "      <td>1.280807</td>\n",
              "      <td>1.279097</td>\n",
              "      <td>1.283481</td>\n",
              "      <td>1.268930</td>\n",
              "      <td>1.275309</td>\n",
              "      <td>1.295443</td>\n",
              "      <td>1.305772</td>\n",
              "      <td>1.264201</td>\n",
              "      <td>1.255373</td>\n",
              "      <td>1.253122</td>\n",
              "      <td>1.288015</td>\n",
              "      <td>1.267530</td>\n",
              "      <td>1.279799</td>\n",
              "      <td>1.268442</td>\n",
              "      <td>1.276848</td>\n",
              "      <td>1.269974</td>\n",
              "      <td>1.268358</td>\n",
              "      <td>1.27259</td>\n",
              "      <td>1.275909</td>\n",
              "      <td>1.257286</td>\n",
              "      <td>1.270695</td>\n",
              "      <td>1.291872</td>\n",
              "      <td>1.278709</td>\n",
              "    </tr>\n",
              "    <tr>\n",
              "      <th>min</th>\n",
              "      <td>1.000000</td>\n",
              "      <td>1.000000</td>\n",
              "      <td>1.000000</td>\n",
              "      <td>0.000000</td>\n",
              "      <td>1.000000</td>\n",
              "      <td>1.000000</td>\n",
              "      <td>1.000000</td>\n",
              "      <td>1.000000</td>\n",
              "      <td>1.000000</td>\n",
              "      <td>1.000000</td>\n",
              "      <td>1.000000</td>\n",
              "      <td>1.000000</td>\n",
              "      <td>1.000000</td>\n",
              "      <td>1.000000</td>\n",
              "      <td>1.000000</td>\n",
              "      <td>1.000000</td>\n",
              "      <td>1.000000</td>\n",
              "      <td>1.000000</td>\n",
              "      <td>1.000000</td>\n",
              "      <td>1.000000</td>\n",
              "      <td>1.000000</td>\n",
              "      <td>1.000000</td>\n",
              "      <td>1.000000</td>\n",
              "      <td>1.000000</td>\n",
              "      <td>1.000000</td>\n",
              "      <td>1.000000</td>\n",
              "      <td>1.000000</td>\n",
              "      <td>1.00000</td>\n",
              "      <td>1.000000</td>\n",
              "      <td>1.000000</td>\n",
              "      <td>1.000000</td>\n",
              "      <td>1.000000</td>\n",
              "      <td>1.000000</td>\n",
              "    </tr>\n",
              "    <tr>\n",
              "      <th>25%</th>\n",
              "      <td>2.000000</td>\n",
              "      <td>4.000000</td>\n",
              "      <td>1.000000</td>\n",
              "      <td>0.000000</td>\n",
              "      <td>1.000000</td>\n",
              "      <td>2.000000</td>\n",
              "      <td>2.000000</td>\n",
              "      <td>2.000000</td>\n",
              "      <td>2.000000</td>\n",
              "      <td>2.000000</td>\n",
              "      <td>2.000000</td>\n",
              "      <td>2.000000</td>\n",
              "      <td>2.000000</td>\n",
              "      <td>2.000000</td>\n",
              "      <td>2.000000</td>\n",
              "      <td>2.000000</td>\n",
              "      <td>2.000000</td>\n",
              "      <td>2.000000</td>\n",
              "      <td>3.000000</td>\n",
              "      <td>3.000000</td>\n",
              "      <td>2.000000</td>\n",
              "      <td>3.000000</td>\n",
              "      <td>2.000000</td>\n",
              "      <td>3.000000</td>\n",
              "      <td>3.000000</td>\n",
              "      <td>3.000000</td>\n",
              "      <td>3.000000</td>\n",
              "      <td>2.00000</td>\n",
              "      <td>2.000000</td>\n",
              "      <td>3.000000</td>\n",
              "      <td>2.000000</td>\n",
              "      <td>2.000000</td>\n",
              "      <td>3.000000</td>\n",
              "    </tr>\n",
              "    <tr>\n",
              "      <th>50%</th>\n",
              "      <td>3.000000</td>\n",
              "      <td>7.000000</td>\n",
              "      <td>1.000000</td>\n",
              "      <td>1.000000</td>\n",
              "      <td>3.000000</td>\n",
              "      <td>3.000000</td>\n",
              "      <td>3.000000</td>\n",
              "      <td>3.000000</td>\n",
              "      <td>3.000000</td>\n",
              "      <td>3.000000</td>\n",
              "      <td>3.000000</td>\n",
              "      <td>3.000000</td>\n",
              "      <td>3.000000</td>\n",
              "      <td>3.000000</td>\n",
              "      <td>3.000000</td>\n",
              "      <td>3.000000</td>\n",
              "      <td>3.000000</td>\n",
              "      <td>3.000000</td>\n",
              "      <td>3.000000</td>\n",
              "      <td>3.000000</td>\n",
              "      <td>3.000000</td>\n",
              "      <td>4.000000</td>\n",
              "      <td>3.000000</td>\n",
              "      <td>3.000000</td>\n",
              "      <td>3.000000</td>\n",
              "      <td>3.000000</td>\n",
              "      <td>3.000000</td>\n",
              "      <td>3.00000</td>\n",
              "      <td>3.000000</td>\n",
              "      <td>3.000000</td>\n",
              "      <td>3.000000</td>\n",
              "      <td>3.000000</td>\n",
              "      <td>3.000000</td>\n",
              "    </tr>\n",
              "    <tr>\n",
              "      <th>75%</th>\n",
              "      <td>3.000000</td>\n",
              "      <td>10.000000</td>\n",
              "      <td>1.000000</td>\n",
              "      <td>3.000000</td>\n",
              "      <td>4.000000</td>\n",
              "      <td>4.000000</td>\n",
              "      <td>4.000000</td>\n",
              "      <td>4.000000</td>\n",
              "      <td>4.000000</td>\n",
              "      <td>4.000000</td>\n",
              "      <td>4.000000</td>\n",
              "      <td>4.000000</td>\n",
              "      <td>4.000000</td>\n",
              "      <td>4.000000</td>\n",
              "      <td>4.000000</td>\n",
              "      <td>4.000000</td>\n",
              "      <td>4.000000</td>\n",
              "      <td>4.000000</td>\n",
              "      <td>4.000000</td>\n",
              "      <td>4.000000</td>\n",
              "      <td>4.000000</td>\n",
              "      <td>4.000000</td>\n",
              "      <td>4.000000</td>\n",
              "      <td>4.000000</td>\n",
              "      <td>4.000000</td>\n",
              "      <td>4.000000</td>\n",
              "      <td>4.000000</td>\n",
              "      <td>4.00000</td>\n",
              "      <td>4.000000</td>\n",
              "      <td>4.000000</td>\n",
              "      <td>4.000000</td>\n",
              "      <td>4.000000</td>\n",
              "      <td>4.000000</td>\n",
              "    </tr>\n",
              "    <tr>\n",
              "      <th>max</th>\n",
              "      <td>3.000000</td>\n",
              "      <td>13.000000</td>\n",
              "      <td>3.000000</td>\n",
              "      <td>4.000000</td>\n",
              "      <td>5.000000</td>\n",
              "      <td>5.000000</td>\n",
              "      <td>5.000000</td>\n",
              "      <td>5.000000</td>\n",
              "      <td>5.000000</td>\n",
              "      <td>5.000000</td>\n",
              "      <td>5.000000</td>\n",
              "      <td>5.000000</td>\n",
              "      <td>5.000000</td>\n",
              "      <td>5.000000</td>\n",
              "      <td>5.000000</td>\n",
              "      <td>5.000000</td>\n",
              "      <td>5.000000</td>\n",
              "      <td>5.000000</td>\n",
              "      <td>5.000000</td>\n",
              "      <td>5.000000</td>\n",
              "      <td>5.000000</td>\n",
              "      <td>5.000000</td>\n",
              "      <td>5.000000</td>\n",
              "      <td>5.000000</td>\n",
              "      <td>5.000000</td>\n",
              "      <td>5.000000</td>\n",
              "      <td>5.000000</td>\n",
              "      <td>5.00000</td>\n",
              "      <td>5.000000</td>\n",
              "      <td>5.000000</td>\n",
              "      <td>5.000000</td>\n",
              "      <td>5.000000</td>\n",
              "      <td>5.000000</td>\n",
              "    </tr>\n",
              "  </tbody>\n",
              "</table>\n",
              "</div>"
            ],
            "text/plain": [
              "             instr        class  ...          Q27          Q28\n",
              "count  5820.000000  5820.000000  ...  5820.000000  5820.000000\n",
              "mean      2.485567     7.276289  ...     3.154811     3.308076\n",
              "std       0.718473     3.688175  ...     1.291872     1.278709\n",
              "min       1.000000     1.000000  ...     1.000000     1.000000\n",
              "25%       2.000000     4.000000  ...     2.000000     3.000000\n",
              "50%       3.000000     7.000000  ...     3.000000     3.000000\n",
              "75%       3.000000    10.000000  ...     4.000000     4.000000\n",
              "max       3.000000    13.000000  ...     5.000000     5.000000\n",
              "\n",
              "[8 rows x 33 columns]"
            ]
          },
          "metadata": {
            "tags": []
          },
          "execution_count": 5
        }
      ]
    },
    {
      "cell_type": "markdown",
      "metadata": {
        "id": "KlUFXJOeEDFL",
        "colab_type": "text"
      },
      "source": [
        "Podemos observar que solo tres instructores impartieron 13 materias"
      ]
    },
    {
      "cell_type": "code",
      "metadata": {
        "id": "ZTYj1c5TDQ_1",
        "colab_type": "code",
        "outputId": "435aa044-cbb6-4dc3-ba0a-6e7a8e100876",
        "colab": {
          "base_uri": "https://localhost:8080/",
          "height": 534
        }
      },
      "source": [
        "df.groupby(['instr','class']).count()"
      ],
      "execution_count": 0,
      "outputs": [
        {
          "output_type": "execute_result",
          "data": {
            "text/html": [
              "<div>\n",
              "<style scoped>\n",
              "    .dataframe tbody tr th:only-of-type {\n",
              "        vertical-align: middle;\n",
              "    }\n",
              "\n",
              "    .dataframe tbody tr th {\n",
              "        vertical-align: top;\n",
              "    }\n",
              "\n",
              "    .dataframe thead th {\n",
              "        text-align: right;\n",
              "    }\n",
              "</style>\n",
              "<table border=\"1\" class=\"dataframe\">\n",
              "  <thead>\n",
              "    <tr style=\"text-align: right;\">\n",
              "      <th></th>\n",
              "      <th></th>\n",
              "      <th>nb.repeat</th>\n",
              "      <th>attendance</th>\n",
              "      <th>difficulty</th>\n",
              "      <th>Q1</th>\n",
              "      <th>Q2</th>\n",
              "      <th>Q3</th>\n",
              "      <th>Q4</th>\n",
              "      <th>Q5</th>\n",
              "      <th>Q6</th>\n",
              "      <th>Q7</th>\n",
              "      <th>Q8</th>\n",
              "      <th>Q9</th>\n",
              "      <th>Q10</th>\n",
              "      <th>Q11</th>\n",
              "      <th>Q12</th>\n",
              "      <th>Q13</th>\n",
              "      <th>Q14</th>\n",
              "      <th>Q15</th>\n",
              "      <th>Q16</th>\n",
              "      <th>Q17</th>\n",
              "      <th>Q18</th>\n",
              "      <th>Q19</th>\n",
              "      <th>Q20</th>\n",
              "      <th>Q21</th>\n",
              "      <th>Q22</th>\n",
              "      <th>Q23</th>\n",
              "      <th>Q24</th>\n",
              "      <th>Q25</th>\n",
              "      <th>Q26</th>\n",
              "      <th>Q27</th>\n",
              "      <th>Q28</th>\n",
              "    </tr>\n",
              "    <tr>\n",
              "      <th>instr</th>\n",
              "      <th>class</th>\n",
              "      <th></th>\n",
              "      <th></th>\n",
              "      <th></th>\n",
              "      <th></th>\n",
              "      <th></th>\n",
              "      <th></th>\n",
              "      <th></th>\n",
              "      <th></th>\n",
              "      <th></th>\n",
              "      <th></th>\n",
              "      <th></th>\n",
              "      <th></th>\n",
              "      <th></th>\n",
              "      <th></th>\n",
              "      <th></th>\n",
              "      <th></th>\n",
              "      <th></th>\n",
              "      <th></th>\n",
              "      <th></th>\n",
              "      <th></th>\n",
              "      <th></th>\n",
              "      <th></th>\n",
              "      <th></th>\n",
              "      <th></th>\n",
              "      <th></th>\n",
              "      <th></th>\n",
              "      <th></th>\n",
              "      <th></th>\n",
              "      <th></th>\n",
              "      <th></th>\n",
              "      <th></th>\n",
              "    </tr>\n",
              "  </thead>\n",
              "  <tbody>\n",
              "    <tr>\n",
              "      <th rowspan=\"3\" valign=\"top\">1</th>\n",
              "      <th>2</th>\n",
              "      <td>140</td>\n",
              "      <td>140</td>\n",
              "      <td>140</td>\n",
              "      <td>140</td>\n",
              "      <td>140</td>\n",
              "      <td>140</td>\n",
              "      <td>140</td>\n",
              "      <td>140</td>\n",
              "      <td>140</td>\n",
              "      <td>140</td>\n",
              "      <td>140</td>\n",
              "      <td>140</td>\n",
              "      <td>140</td>\n",
              "      <td>140</td>\n",
              "      <td>140</td>\n",
              "      <td>140</td>\n",
              "      <td>140</td>\n",
              "      <td>140</td>\n",
              "      <td>140</td>\n",
              "      <td>140</td>\n",
              "      <td>140</td>\n",
              "      <td>140</td>\n",
              "      <td>140</td>\n",
              "      <td>140</td>\n",
              "      <td>140</td>\n",
              "      <td>140</td>\n",
              "      <td>140</td>\n",
              "      <td>140</td>\n",
              "      <td>140</td>\n",
              "      <td>140</td>\n",
              "      <td>140</td>\n",
              "    </tr>\n",
              "    <tr>\n",
              "      <th>7</th>\n",
              "      <td>187</td>\n",
              "      <td>187</td>\n",
              "      <td>187</td>\n",
              "      <td>187</td>\n",
              "      <td>187</td>\n",
              "      <td>187</td>\n",
              "      <td>187</td>\n",
              "      <td>187</td>\n",
              "      <td>187</td>\n",
              "      <td>187</td>\n",
              "      <td>187</td>\n",
              "      <td>187</td>\n",
              "      <td>187</td>\n",
              "      <td>187</td>\n",
              "      <td>187</td>\n",
              "      <td>187</td>\n",
              "      <td>187</td>\n",
              "      <td>187</td>\n",
              "      <td>187</td>\n",
              "      <td>187</td>\n",
              "      <td>187</td>\n",
              "      <td>187</td>\n",
              "      <td>187</td>\n",
              "      <td>187</td>\n",
              "      <td>187</td>\n",
              "      <td>187</td>\n",
              "      <td>187</td>\n",
              "      <td>187</td>\n",
              "      <td>187</td>\n",
              "      <td>187</td>\n",
              "      <td>187</td>\n",
              "    </tr>\n",
              "    <tr>\n",
              "      <th>10</th>\n",
              "      <td>448</td>\n",
              "      <td>448</td>\n",
              "      <td>448</td>\n",
              "      <td>448</td>\n",
              "      <td>448</td>\n",
              "      <td>448</td>\n",
              "      <td>448</td>\n",
              "      <td>448</td>\n",
              "      <td>448</td>\n",
              "      <td>448</td>\n",
              "      <td>448</td>\n",
              "      <td>448</td>\n",
              "      <td>448</td>\n",
              "      <td>448</td>\n",
              "      <td>448</td>\n",
              "      <td>448</td>\n",
              "      <td>448</td>\n",
              "      <td>448</td>\n",
              "      <td>448</td>\n",
              "      <td>448</td>\n",
              "      <td>448</td>\n",
              "      <td>448</td>\n",
              "      <td>448</td>\n",
              "      <td>448</td>\n",
              "      <td>448</td>\n",
              "      <td>448</td>\n",
              "      <td>448</td>\n",
              "      <td>448</td>\n",
              "      <td>448</td>\n",
              "      <td>448</td>\n",
              "      <td>448</td>\n",
              "    </tr>\n",
              "    <tr>\n",
              "      <th rowspan=\"4\" valign=\"top\">2</th>\n",
              "      <th>1</th>\n",
              "      <td>303</td>\n",
              "      <td>303</td>\n",
              "      <td>303</td>\n",
              "      <td>303</td>\n",
              "      <td>303</td>\n",
              "      <td>303</td>\n",
              "      <td>303</td>\n",
              "      <td>303</td>\n",
              "      <td>303</td>\n",
              "      <td>303</td>\n",
              "      <td>303</td>\n",
              "      <td>303</td>\n",
              "      <td>303</td>\n",
              "      <td>303</td>\n",
              "      <td>303</td>\n",
              "      <td>303</td>\n",
              "      <td>303</td>\n",
              "      <td>303</td>\n",
              "      <td>303</td>\n",
              "      <td>303</td>\n",
              "      <td>303</td>\n",
              "      <td>303</td>\n",
              "      <td>303</td>\n",
              "      <td>303</td>\n",
              "      <td>303</td>\n",
              "      <td>303</td>\n",
              "      <td>303</td>\n",
              "      <td>303</td>\n",
              "      <td>303</td>\n",
              "      <td>303</td>\n",
              "      <td>303</td>\n",
              "    </tr>\n",
              "    <tr>\n",
              "      <th>6</th>\n",
              "      <td>558</td>\n",
              "      <td>558</td>\n",
              "      <td>558</td>\n",
              "      <td>558</td>\n",
              "      <td>558</td>\n",
              "      <td>558</td>\n",
              "      <td>558</td>\n",
              "      <td>558</td>\n",
              "      <td>558</td>\n",
              "      <td>558</td>\n",
              "      <td>558</td>\n",
              "      <td>558</td>\n",
              "      <td>558</td>\n",
              "      <td>558</td>\n",
              "      <td>558</td>\n",
              "      <td>558</td>\n",
              "      <td>558</td>\n",
              "      <td>558</td>\n",
              "      <td>558</td>\n",
              "      <td>558</td>\n",
              "      <td>558</td>\n",
              "      <td>558</td>\n",
              "      <td>558</td>\n",
              "      <td>558</td>\n",
              "      <td>558</td>\n",
              "      <td>558</td>\n",
              "      <td>558</td>\n",
              "      <td>558</td>\n",
              "      <td>558</td>\n",
              "      <td>558</td>\n",
              "      <td>558</td>\n",
              "    </tr>\n",
              "    <tr>\n",
              "      <th>11</th>\n",
              "      <td>484</td>\n",
              "      <td>484</td>\n",
              "      <td>484</td>\n",
              "      <td>484</td>\n",
              "      <td>484</td>\n",
              "      <td>484</td>\n",
              "      <td>484</td>\n",
              "      <td>484</td>\n",
              "      <td>484</td>\n",
              "      <td>484</td>\n",
              "      <td>484</td>\n",
              "      <td>484</td>\n",
              "      <td>484</td>\n",
              "      <td>484</td>\n",
              "      <td>484</td>\n",
              "      <td>484</td>\n",
              "      <td>484</td>\n",
              "      <td>484</td>\n",
              "      <td>484</td>\n",
              "      <td>484</td>\n",
              "      <td>484</td>\n",
              "      <td>484</td>\n",
              "      <td>484</td>\n",
              "      <td>484</td>\n",
              "      <td>484</td>\n",
              "      <td>484</td>\n",
              "      <td>484</td>\n",
              "      <td>484</td>\n",
              "      <td>484</td>\n",
              "      <td>484</td>\n",
              "      <td>484</td>\n",
              "    </tr>\n",
              "    <tr>\n",
              "      <th>13</th>\n",
              "      <td>99</td>\n",
              "      <td>99</td>\n",
              "      <td>99</td>\n",
              "      <td>99</td>\n",
              "      <td>99</td>\n",
              "      <td>99</td>\n",
              "      <td>99</td>\n",
              "      <td>99</td>\n",
              "      <td>99</td>\n",
              "      <td>99</td>\n",
              "      <td>99</td>\n",
              "      <td>99</td>\n",
              "      <td>99</td>\n",
              "      <td>99</td>\n",
              "      <td>99</td>\n",
              "      <td>99</td>\n",
              "      <td>99</td>\n",
              "      <td>99</td>\n",
              "      <td>99</td>\n",
              "      <td>99</td>\n",
              "      <td>99</td>\n",
              "      <td>99</td>\n",
              "      <td>99</td>\n",
              "      <td>99</td>\n",
              "      <td>99</td>\n",
              "      <td>99</td>\n",
              "      <td>99</td>\n",
              "      <td>99</td>\n",
              "      <td>99</td>\n",
              "      <td>99</td>\n",
              "      <td>99</td>\n",
              "    </tr>\n",
              "    <tr>\n",
              "      <th rowspan=\"7\" valign=\"top\">3</th>\n",
              "      <th>3</th>\n",
              "      <td>904</td>\n",
              "      <td>904</td>\n",
              "      <td>904</td>\n",
              "      <td>904</td>\n",
              "      <td>904</td>\n",
              "      <td>904</td>\n",
              "      <td>904</td>\n",
              "      <td>904</td>\n",
              "      <td>904</td>\n",
              "      <td>904</td>\n",
              "      <td>904</td>\n",
              "      <td>904</td>\n",
              "      <td>904</td>\n",
              "      <td>904</td>\n",
              "      <td>904</td>\n",
              "      <td>904</td>\n",
              "      <td>904</td>\n",
              "      <td>904</td>\n",
              "      <td>904</td>\n",
              "      <td>904</td>\n",
              "      <td>904</td>\n",
              "      <td>904</td>\n",
              "      <td>904</td>\n",
              "      <td>904</td>\n",
              "      <td>904</td>\n",
              "      <td>904</td>\n",
              "      <td>904</td>\n",
              "      <td>904</td>\n",
              "      <td>904</td>\n",
              "      <td>904</td>\n",
              "      <td>904</td>\n",
              "    </tr>\n",
              "    <tr>\n",
              "      <th>4</th>\n",
              "      <td>187</td>\n",
              "      <td>187</td>\n",
              "      <td>187</td>\n",
              "      <td>187</td>\n",
              "      <td>187</td>\n",
              "      <td>187</td>\n",
              "      <td>187</td>\n",
              "      <td>187</td>\n",
              "      <td>187</td>\n",
              "      <td>187</td>\n",
              "      <td>187</td>\n",
              "      <td>187</td>\n",
              "      <td>187</td>\n",
              "      <td>187</td>\n",
              "      <td>187</td>\n",
              "      <td>187</td>\n",
              "      <td>187</td>\n",
              "      <td>187</td>\n",
              "      <td>187</td>\n",
              "      <td>187</td>\n",
              "      <td>187</td>\n",
              "      <td>187</td>\n",
              "      <td>187</td>\n",
              "      <td>187</td>\n",
              "      <td>187</td>\n",
              "      <td>187</td>\n",
              "      <td>187</td>\n",
              "      <td>187</td>\n",
              "      <td>187</td>\n",
              "      <td>187</td>\n",
              "      <td>187</td>\n",
              "    </tr>\n",
              "    <tr>\n",
              "      <th>5</th>\n",
              "      <td>656</td>\n",
              "      <td>656</td>\n",
              "      <td>656</td>\n",
              "      <td>656</td>\n",
              "      <td>656</td>\n",
              "      <td>656</td>\n",
              "      <td>656</td>\n",
              "      <td>656</td>\n",
              "      <td>656</td>\n",
              "      <td>656</td>\n",
              "      <td>656</td>\n",
              "      <td>656</td>\n",
              "      <td>656</td>\n",
              "      <td>656</td>\n",
              "      <td>656</td>\n",
              "      <td>656</td>\n",
              "      <td>656</td>\n",
              "      <td>656</td>\n",
              "      <td>656</td>\n",
              "      <td>656</td>\n",
              "      <td>656</td>\n",
              "      <td>656</td>\n",
              "      <td>656</td>\n",
              "      <td>656</td>\n",
              "      <td>656</td>\n",
              "      <td>656</td>\n",
              "      <td>656</td>\n",
              "      <td>656</td>\n",
              "      <td>656</td>\n",
              "      <td>656</td>\n",
              "      <td>656</td>\n",
              "    </tr>\n",
              "    <tr>\n",
              "      <th>8</th>\n",
              "      <td>500</td>\n",
              "      <td>500</td>\n",
              "      <td>500</td>\n",
              "      <td>500</td>\n",
              "      <td>500</td>\n",
              "      <td>500</td>\n",
              "      <td>500</td>\n",
              "      <td>500</td>\n",
              "      <td>500</td>\n",
              "      <td>500</td>\n",
              "      <td>500</td>\n",
              "      <td>500</td>\n",
              "      <td>500</td>\n",
              "      <td>500</td>\n",
              "      <td>500</td>\n",
              "      <td>500</td>\n",
              "      <td>500</td>\n",
              "      <td>500</td>\n",
              "      <td>500</td>\n",
              "      <td>500</td>\n",
              "      <td>500</td>\n",
              "      <td>500</td>\n",
              "      <td>500</td>\n",
              "      <td>500</td>\n",
              "      <td>500</td>\n",
              "      <td>500</td>\n",
              "      <td>500</td>\n",
              "      <td>500</td>\n",
              "      <td>500</td>\n",
              "      <td>500</td>\n",
              "      <td>500</td>\n",
              "    </tr>\n",
              "    <tr>\n",
              "      <th>9</th>\n",
              "      <td>571</td>\n",
              "      <td>571</td>\n",
              "      <td>571</td>\n",
              "      <td>571</td>\n",
              "      <td>571</td>\n",
              "      <td>571</td>\n",
              "      <td>571</td>\n",
              "      <td>571</td>\n",
              "      <td>571</td>\n",
              "      <td>571</td>\n",
              "      <td>571</td>\n",
              "      <td>571</td>\n",
              "      <td>571</td>\n",
              "      <td>571</td>\n",
              "      <td>571</td>\n",
              "      <td>571</td>\n",
              "      <td>571</td>\n",
              "      <td>571</td>\n",
              "      <td>571</td>\n",
              "      <td>571</td>\n",
              "      <td>571</td>\n",
              "      <td>571</td>\n",
              "      <td>571</td>\n",
              "      <td>571</td>\n",
              "      <td>571</td>\n",
              "      <td>571</td>\n",
              "      <td>571</td>\n",
              "      <td>571</td>\n",
              "      <td>571</td>\n",
              "      <td>571</td>\n",
              "      <td>571</td>\n",
              "    </tr>\n",
              "    <tr>\n",
              "      <th>12</th>\n",
              "      <td>41</td>\n",
              "      <td>41</td>\n",
              "      <td>41</td>\n",
              "      <td>41</td>\n",
              "      <td>41</td>\n",
              "      <td>41</td>\n",
              "      <td>41</td>\n",
              "      <td>41</td>\n",
              "      <td>41</td>\n",
              "      <td>41</td>\n",
              "      <td>41</td>\n",
              "      <td>41</td>\n",
              "      <td>41</td>\n",
              "      <td>41</td>\n",
              "      <td>41</td>\n",
              "      <td>41</td>\n",
              "      <td>41</td>\n",
              "      <td>41</td>\n",
              "      <td>41</td>\n",
              "      <td>41</td>\n",
              "      <td>41</td>\n",
              "      <td>41</td>\n",
              "      <td>41</td>\n",
              "      <td>41</td>\n",
              "      <td>41</td>\n",
              "      <td>41</td>\n",
              "      <td>41</td>\n",
              "      <td>41</td>\n",
              "      <td>41</td>\n",
              "      <td>41</td>\n",
              "      <td>41</td>\n",
              "    </tr>\n",
              "    <tr>\n",
              "      <th>13</th>\n",
              "      <td>742</td>\n",
              "      <td>742</td>\n",
              "      <td>742</td>\n",
              "      <td>742</td>\n",
              "      <td>742</td>\n",
              "      <td>742</td>\n",
              "      <td>742</td>\n",
              "      <td>742</td>\n",
              "      <td>742</td>\n",
              "      <td>742</td>\n",
              "      <td>742</td>\n",
              "      <td>742</td>\n",
              "      <td>742</td>\n",
              "      <td>742</td>\n",
              "      <td>742</td>\n",
              "      <td>742</td>\n",
              "      <td>742</td>\n",
              "      <td>742</td>\n",
              "      <td>742</td>\n",
              "      <td>742</td>\n",
              "      <td>742</td>\n",
              "      <td>742</td>\n",
              "      <td>742</td>\n",
              "      <td>742</td>\n",
              "      <td>742</td>\n",
              "      <td>742</td>\n",
              "      <td>742</td>\n",
              "      <td>742</td>\n",
              "      <td>742</td>\n",
              "      <td>742</td>\n",
              "      <td>742</td>\n",
              "    </tr>\n",
              "  </tbody>\n",
              "</table>\n",
              "</div>"
            ],
            "text/plain": [
              "             nb.repeat  attendance  difficulty   Q1  ...  Q25  Q26  Q27  Q28\n",
              "instr class                                          ...                    \n",
              "1     2            140         140         140  140  ...  140  140  140  140\n",
              "      7            187         187         187  187  ...  187  187  187  187\n",
              "      10           448         448         448  448  ...  448  448  448  448\n",
              "2     1            303         303         303  303  ...  303  303  303  303\n",
              "      6            558         558         558  558  ...  558  558  558  558\n",
              "      11           484         484         484  484  ...  484  484  484  484\n",
              "      13            99          99          99   99  ...   99   99   99   99\n",
              "3     3            904         904         904  904  ...  904  904  904  904\n",
              "      4            187         187         187  187  ...  187  187  187  187\n",
              "      5            656         656         656  656  ...  656  656  656  656\n",
              "      8            500         500         500  500  ...  500  500  500  500\n",
              "      9            571         571         571  571  ...  571  571  571  571\n",
              "      12            41          41          41   41  ...   41   41   41   41\n",
              "      13           742         742         742  742  ...  742  742  742  742\n",
              "\n",
              "[14 rows x 31 columns]"
            ]
          },
          "metadata": {
            "tags": []
          },
          "execution_count": 18
        }
      ]
    },
    {
      "cell_type": "markdown",
      "metadata": {
        "id": "t0MYssVeILEZ",
        "colab_type": "text"
      },
      "source": [
        "## Visualicemos un poco los datos"
      ]
    },
    {
      "cell_type": "code",
      "metadata": {
        "id": "h46GQ6KRAsqF",
        "colab_type": "code",
        "outputId": "08fad4ec-0506-4da5-c173-cd4085727944",
        "colab": {
          "base_uri": "https://localhost:8080/",
          "height": 71
        }
      },
      "source": [
        "import seaborn as sns\n",
        "import numpy as np\n",
        "import matplotlib.pyplot as plt\n",
        "sns.set()"
      ],
      "execution_count": 0,
      "outputs": [
        {
          "output_type": "stream",
          "text": [
            "/usr/local/lib/python3.6/dist-packages/statsmodels/tools/_testing.py:19: FutureWarning: pandas.util.testing is deprecated. Use the functions in the public API at pandas.testing instead.\n",
            "  import pandas.util.testing as tm\n"
          ],
          "name": "stderr"
        }
      ]
    },
    {
      "cell_type": "code",
      "metadata": {
        "id": "7N5ABW4bISWp",
        "colab_type": "code",
        "outputId": "aa0d2dc6-04f9-4e9b-a3af-1d1ae4233017",
        "colab": {
          "base_uri": "https://localhost:8080/",
          "height": 355
        }
      },
      "source": [
        "plt.figure(figsize=(8,5))\n",
        "plt.title(\"Distribución de los alumnos según el instructor\")\n",
        "sns.countplot(x='instr', data=df, palette=\"Blues_d\")\n",
        "plt.show()"
      ],
      "execution_count": 0,
      "outputs": [
        {
          "output_type": "display_data",
          "data": {
            "image/png": "[encoded data removed]",
            "text/plain": [
              "<Figure size 576x360 with 1 Axes>"
            ]
          },
          "metadata": {
            "tags": []
          }
        }
      ]
    },
    {
      "cell_type": "markdown",
      "metadata": {
        "id": "OZKTy44gWDCe",
        "colab_type": "text"
      },
      "source": [
        "Podemos observar que el instructor **3** tuvo mas alumnos que respondieron la encuenta que los otros dos instructores."
      ]
    },
    {
      "cell_type": "code",
      "metadata": {
        "id": "17h8KyBWKf1k",
        "colab_type": "code",
        "outputId": "8db8c533-a418-480f-87cb-415bc41acdc6",
        "colab": {
          "base_uri": "https://localhost:8080/",
          "height": 355
        }
      },
      "source": [
        "plt.figure(figsize=(8,5))\n",
        "plt.title(\"Distribución de los alumnos segun la clase\")\n",
        "sns.countplot(x='class', data=df, palette=\"Blues_d\")\n",
        "plt.show()"
      ],
      "execution_count": 0,
      "outputs": [
        {
          "output_type": "display_data",
          "data": {
            "image/png": "[encoded data removed]",
            "text/plain": [
              "<Figure size 576x360 with 1 Axes>"
            ]
          },
          "metadata": {
            "tags": []
          }
        }
      ]
    },
    {
      "cell_type": "markdown",
      "metadata": {
        "id": "JoEayje-WS4R",
        "colab_type": "text"
      },
      "source": [
        "Podemos observar claramente, que hay una desigualdad en la cantidad de alumnos que realizaron la encuesta en cada clase."
      ]
    },
    {
      "cell_type": "code",
      "metadata": {
        "id": "U_olMP4LOhCc",
        "colab_type": "code",
        "outputId": "e7641375-972d-456f-e5d2-fc52f362410e",
        "colab": {
          "base_uri": "https://localhost:8080/",
          "height": 360
        }
      },
      "source": [
        "plt.figure(figsize=(8,5))\n",
        "plt.title(\"Distribución de los alumnos segun el instructor y la clase\")\n",
        "sns.countplot(x='class', data=df,hue='instr', palette=\"Blues_d\")\n",
        "plt.tick_params(axis='x', labelsize=16)\n",
        "plt.show()"
      ],
      "execution_count": 0,
      "outputs": [
        {
          "output_type": "display_data",
          "data": {
            "image/png": "[encoded data removed]",
            "text/plain": [
              "<Figure size 576x360 with 1 Axes>"
            ]
          },
          "metadata": {
            "tags": []
          }
        }
      ]
    },
    {
      "cell_type": "markdown",
      "metadata": {
        "id": "8r8ZItbEJ61N",
        "colab_type": "text"
      },
      "source": [
        "Por otra parte, podemos observar que el instructor 3 tuvo más alumnos debido a que imparte más clases con más alumnos que los otros dos instructores."
      ]
    },
    {
      "cell_type": "markdown",
      "metadata": {
        "id": "8VlFwdO9ijMK",
        "colab_type": "text"
      },
      "source": [
        "### Sobre las preguntas en la encuesta\n",
        "\n",
        "Q1: El contenido del curso semestral, el método de enseñanza y el sistema de evaluación se proporcionaron al principio.\n",
        "\n",
        "Q2: Las metas y objetivos del curso se establecieron claramente al comienzo del período.\n",
        "\n",
        "Q3: El curso valió la cantidad de crédito asignado.\n",
        "\n",
        "Q4: El curso se impartió de acuerdo con el plan de estudios anunciado el primer día de clase.\n",
        "\n",
        "Q5: Las discusiones en clase, tareas, solicitudes y estudios fueron \n",
        "satisfactorios.\n",
        "\n",
        "Q6: El libro de texto y otros recursos de los cursos fueron suficientes y actualizados.\n",
        "\n",
        "Q7: El curso permitió trabajo de campo, aplicaciones, laboratorio, discusión y otros estudios.\n",
        "\n",
        "Q8: Los cuestionarios, tareas, proyectos y exámenes contribuyeron a ayudar al aprendizaje.\n",
        "\n",
        "Q9: Disfruté mucho la clase y estaba ansioso por participar activamente durante las conferencias.\n",
        "\n",
        "Q10: Mis expectativas iniciales sobre el curso se cumplieron al final del período o año.\n",
        "\n",
        "Q11: El curso fue relevante y beneficioso para mi desarrollo profesional.\n",
        "\n",
        "Q12: El curso me ayudó a mirar la vida y el mundo con una nueva perspectiva.\n",
        "\n",
        "Q13: El conocimiento del Instructor era relevante y actualizado.\n",
        "\n",
        "Q14: El instructor vino preparado para las clases.\n",
        "\n",
        "Q15: El instructor enseñó de acuerdo con el plan de lección anunciado.\n",
        "\n",
        "Q16: El instructor estaba comprometido con el curso y era comprensible.\n",
        "\n",
        "Q17: El instructor llegó a tiempo para las clases.\n",
        "\n",
        "Q18: El Instructor tiene una entrega / discurso suave y fácil de seguir.\n",
        "\n",
        "Q19: El instructor hizo un uso efectivo de las horas de clase.\n",
        "\n",
        "Q20: El instructor explicó el curso y estaba ansioso por ayudar a los estudiantes.\n",
        "\n",
        "Q21: El instructor demostró un enfoque positivo para los estudiantes.\n",
        "\n",
        "Q22: El instructor fue abierto y respetuoso con las opiniones de los estudiantes sobre el curso.\n",
        "\n",
        "Q23: El instructor alentó la participación en el curso.\n",
        "\n",
        "Q24: El instructor asignó tareas / proyectos relevantes y ayudó / guió a los estudiantes.\n",
        "\n",
        "Q25: El instructor respondió a las preguntas sobre el curso dentro y fuera del curso.\n",
        "\n",
        "Q26: El sistema de evaluación del Instructor (preguntas intermedias y finales, proyectos, tareas, etc.) midió efectivamente los objetivos del curso.\n",
        "\n",
        "Q27: El instructor brindó soluciones a los exámenes y los discutió con los estudiantes.\n",
        "\n",
        "Q28: El Instructor trató a todos los estudiantes de manera correcta y objetiva."
      ]
    },
    {
      "cell_type": "code",
      "metadata": {
        "id": "fN-bBUVQjomb",
        "colab_type": "code",
        "colab": {}
      },
      "source": [
        "X_Q = df.iloc [:, 5:33] \n",
        "Q_means = X_Q.mean(axis = 0) \n",
        "Q_means = Q_means.to_frame('mean')\n",
        "Q_means.reset_index(level=0, inplace=True)"
      ],
      "execution_count": 0,
      "outputs": []
    },
    {
      "cell_type": "code",
      "metadata": {
        "id": "2zEl62JhZcLb",
        "colab_type": "code",
        "outputId": "a9772619-0f84-4eab-9b4e-e510008d40eb",
        "colab": {
          "base_uri": "https://localhost:8080/",
          "height": 351
        }
      },
      "source": [
        "plt.figure(figsize=(8,5))\n",
        "plt.title(\"Promedio de respuestas en cada una de las preguntas\")\n",
        "sns.barplot(x='index', y = 'mean', data = Q_means, palette=\"Blues_d\")\n",
        "plt.tick_params(axis='x', labelsize=7)\n",
        "plt.xlabel('Preguntas')\n",
        "plt.ylim(1,5)\n",
        "plt.show()"
      ],
      "execution_count": 0,
      "outputs": [
        {
          "output_type": "display_data",
          "data": {
            "image/png": "[encoded data removed]",
            "text/plain": [
              "<Figure size 576x360 with 1 Axes>"
            ]
          },
          "metadata": {
            "tags": []
          }
        }
      ]
    },
    {
      "cell_type": "markdown",
      "metadata": {
        "id": "zWGAUBTulPj6",
        "colab_type": "text"
      },
      "source": [
        "Podemos observar que la media de cada pregunda está cercana a **3**"
      ]
    },
    {
      "cell_type": "code",
      "metadata": {
        "id": "2BG5tJmOlTWa",
        "colab_type": "code",
        "outputId": "cc60a05b-a197-4708-d92f-096f74e65f39",
        "colab": {
          "base_uri": "https://localhost:8080/",
          "height": 354
        }
      },
      "source": [
        "plt.figure(figsize=(8,5))\n",
        "plt.title(\"Promedio de dificultad según la clase\")\n",
        "sns.barplot(x='class', y = 'difficulty', data = df, palette=\"Blues_d\")\n",
        "plt.tick_params(axis='x', labelsize=9)\n",
        "plt.xlabel('Clase')\n",
        "plt.ylim(1,5)\n",
        "plt.show()"
      ],
      "execution_count": 0,
      "outputs": [
        {
          "output_type": "display_data",
          "data": {
            "image/png": "[encoded data removed]",
            "text/plain": [
              "<Figure size 576x360 with 1 Axes>"
            ]
          },
          "metadata": {
            "tags": []
          }
        }
      ]
    },
    {
      "cell_type": "markdown",
      "metadata": {
        "id": "7Zdu1HDBnJ-c",
        "colab_type": "text"
      },
      "source": [
        "Podemos observar que las clases que fueron puntuadas con la mayor dificultad son la 2 y la 7. Sin embargo, en ambas clases menos de 200 alumnos respondieron la encuesta, que es un número bajo comparado con clases como la 13 o la 3."
      ]
    },
    {
      "cell_type": "markdown",
      "metadata": {
        "id": "vJX8-pN44UCI",
        "colab_type": "text"
      },
      "source": [
        "##Selección de los Datos\n",
        "\n",
        "Sabemos que las respuestas a las preguntas de la encuesta se encuentran de la columna 5 a la 33 y que estas están escaladas con valores discretos del 1 al 5. Separaremos las respuestas de las encuestas por materias."
      ]
    },
    {
      "cell_type": "code",
      "metadata": {
        "id": "Cwm1elS2wLtt",
        "colab_type": "code",
        "colab": {}
      },
      "source": [
        "df_C1 = df.loc[df['class']==1].iloc[:,5:]\n",
        "df_C2 = df.loc[df['class']==2].iloc[:,5:]\n",
        "df_C3 = df.loc[df['class']==3].iloc[:,5:]\n",
        "df_C4 = df.loc[df['class']==4].iloc[:,5:]\n",
        "df_C5 = df.loc[df['class']==5].iloc[:,5:]\n",
        "df_C6 = df.loc[df['class']==6].iloc[:,5:]\n",
        "df_C7 = df.loc[df['class']==7].iloc[:,5:]\n",
        "df_C8 = df.loc[df['class']==8].iloc[:,5:]\n",
        "df_C9 = df.loc[df['class']==9].iloc[:,5:]\n",
        "df_C10 = df.loc[df['class']==10].iloc[:,5:]\n",
        "df_C11 = df.loc[df['class']==11].iloc[:,5:]\n",
        "df_C12 = df.loc[df['class']==12].iloc[:,5:]\n",
        "df_C13 = df.loc[df['class']==13].iloc[:,5:]"
      ],
      "execution_count": 0,
      "outputs": []
    },
    {
      "cell_type": "markdown",
      "metadata": {
        "id": "a1LDvW240dET",
        "colab_type": "text"
      },
      "source": [
        "Ralicemos una agrupación mediante el algoritmo de *Kmeans* en dos materias a ver que resultados obtenemos.\n",
        "\n",
        "\n",
        "*   clase 7, instructor 1, 187 alumnos respondieron la encuesta, promedio de dificultad de la clase según los alumnos 3.75\n",
        "*   clase 3, instructor 3, 904 alumnos respondieron la encuesta, promedio de dificultad de la clase según los alumnos 2.90 \n"
      ]
    },
    {
      "cell_type": "code",
      "metadata": {
        "id": "bJrfHZjuzKy6",
        "colab_type": "code",
        "colab": {}
      },
      "source": [
        "X_1 = np.array(df_C1)\n",
        "X_7 = np.array(df_C7)\n",
        "X_9 = np.array(df_C8)"
      ],
      "execution_count": 0,
      "outputs": []
    },
    {
      "cell_type": "code",
      "metadata": {
        "id": "b6vLRU8gzKNn",
        "colab_type": "code",
        "colab": {}
      },
      "source": [
        "from sklearn.cluster import KMeans\n",
        "from sklearn.metrics import silhouette_score"
      ],
      "execution_count": 0,
      "outputs": []
    },
    {
      "cell_type": "code",
      "metadata": {
        "id": "o5-jaZsT5CeD",
        "colab_type": "code",
        "outputId": "bab06014-1f8a-4b02-9e29-6cae971f4c4e",
        "colab": {
          "base_uri": "https://localhost:8080/",
          "height": 136
        }
      },
      "source": [
        "dis_1 = []\n",
        "sil_1 = []\n",
        "dis_7 = []\n",
        "sil_7 = []\n",
        "dis_9 = []\n",
        "sil_9 = []\n",
        "for i in range(2,9):\n",
        "  print(i)\n",
        "  model_1 = KMeans(n_clusters= i, random_state=2)\n",
        "  model_1.fit(X_1)\n",
        "  dis_1.append(model_1.inertia_)\n",
        "  sil_1.append(silhouette_score(X_1, model_1.fit_predict(X_1)))\n",
        "  model_7 = KMeans(n_clusters= i, random_state=3)\n",
        "  model_7.fit(X_7)\n",
        "  dis_7.append(model_7.inertia_)\n",
        "  sil_7.append(silhouette_score(X_7, model_7.fit_predict(X_7)))\n",
        "  model_9 = KMeans(n_clusters= i, random_state=3)\n",
        "  model_9.fit(X_9)\n",
        "  dis_9.append(model_9.inertia_)\n",
        "  sil_9.append(silhouette_score(X_9, model_9.fit_predict(X_9)))"
      ],
      "execution_count": 95,
      "outputs": [
        {
          "output_type": "stream",
          "text": [
            "2\n",
            "3\n",
            "4\n",
            "5\n",
            "6\n",
            "7\n",
            "8\n"
          ],
          "name": "stdout"
        }
      ]
    },
    {
      "cell_type": "code",
      "metadata": {
        "id": "OZzjdV2k5CDu",
        "colab_type": "code",
        "outputId": "76563704-721a-4843-a8ac-be0566b1abc9",
        "colab": {
          "base_uri": "https://localhost:8080/",
          "height": 355
        }
      },
      "source": [
        "plt.figure(figsize=(8,5))\n",
        "plt.plot(np.linspace(2,8,7),sil_7,'co-')\n",
        "plt.xlabel ('K') \n",
        "plt.ylabel ('Silhouette Score')\n",
        "plt.title('Método de la silueta') \n",
        "plt.show()"
      ],
      "execution_count": 86,
      "outputs": [
        {
          "output_type": "display_data",
          "data": {
            "image/png": "[encoded data removed]",
            "text/plain": [
              "<Figure size 576x360 with 1 Axes>"
            ]
          },
          "metadata": {
            "tags": []
          }
        }
      ]
    },
    {
      "cell_type": "code",
      "metadata": {
        "id": "8AAHAQwz5c6O",
        "colab_type": "code",
        "colab": {
          "base_uri": "https://localhost:8080/",
          "height": 355
        },
        "outputId": "5c48345f-5d76-4fda-88bd-7ead853db19a"
      },
      "source": [
        "plt.figure(figsize=(8,5))\n",
        "plt.plot(np.linspace(2,8,7),sil_9,'co-')\n",
        "plt.xlabel ('K') \n",
        "plt.ylabel ('Silhouette Score')\n",
        "plt.title('Método de la silueta') \n",
        "plt.show()"
      ],
      "execution_count": 96,
      "outputs": [
        {
          "output_type": "display_data",
          "data": {
            "image/png": "[encoded data removed]",
            "text/plain": [
              "<Figure size 576x360 with 1 Axes>"
            ]
          },
          "metadata": {
            "tags": []
          }
        }
      ]
    },
    {
      "cell_type": "code",
      "metadata": {
        "id": "MuFYvdh_6HN_",
        "colab_type": "code",
        "outputId": "f15ff7ba-be67-4243-ecee-af2c0a940575",
        "colab": {
          "base_uri": "https://localhost:8080/",
          "height": 355
        }
      },
      "source": [
        "plt.figure(figsize=(8,5))\n",
        "plt.plot(np.linspace(2,8,7),sil_1,'co-')\n",
        "plt.xlabel ('K') \n",
        "plt.ylabel ('Silhouette Score')\n",
        "plt.title('Método de la silueta') \n",
        "plt.show()"
      ],
      "execution_count": 90,
      "outputs": [
        {
          "output_type": "display_data",
          "data": {
            "image/png": "[encoded data removed]",
            "text/plain": [
              "<Figure size 576x360 with 1 Axes>"
            ]
          },
          "metadata": {
            "tags": []
          }
        }
      ]
    },
    {
      "cell_type": "markdown",
      "metadata": {
        "id": "ggOSpL13UTck",
        "colab_type": "text"
      },
      "source": [
        "## K Means"
      ]
    },
    {
      "cell_type": "code",
      "metadata": {
        "id": "1-Qb-Z2S4pXW",
        "colab_type": "code",
        "colab": {}
      },
      "source": [
        "model_C1 = KMeans(n_clusters=7,random_state=1).fit(X_1)\n",
        "model_C7 = KMeans(n_clusters=2, random_state = 4).fit(X_7)\n",
        "model_C9 = KMeans(n_clusters=2, random_state = 4).fit(X_9)"
      ],
      "execution_count": 0,
      "outputs": []
    },
    {
      "cell_type": "markdown",
      "metadata": {
        "id": "PNJRWOyc6vbp",
        "colab_type": "text"
      },
      "source": [
        "Como podemos observar se tienen 28 características, lo cual dificultará la visualización de los clusters, por lo cual reduciremos la dimencionalidad utilizando el análisis de componentes principales ( PCA ). "
      ]
    },
    {
      "cell_type": "code",
      "metadata": {
        "id": "uAt2LZ1N7Yfc",
        "colab_type": "code",
        "colab": {}
      },
      "source": [
        "from sklearn.decomposition import PCA"
      ],
      "execution_count": 0,
      "outputs": []
    },
    {
      "cell_type": "code",
      "metadata": {
        "id": "KVWNdZDuAVGi",
        "colab_type": "code",
        "colab": {
          "base_uri": "https://localhost:8080/",
          "height": 255
        },
        "outputId": "988a97c5-f60f-4910-962d-833fe2da37c9"
      },
      "source": [
        "X=model_1.predict(X_1)\n",
        "X = pd.cat"
      ],
      "execution_count": 107,
      "outputs": [
        {
          "output_type": "execute_result",
          "data": {
            "text/plain": [
              "array([1, 0, 3, 0, 7, 0, 3, 2, 5, 7, 6, 1, 1, 2, 6, 2, 0, 2, 2, 7, 1, 2,\n",
              "       7, 4, 6, 3, 2, 2, 1, 2, 3, 6, 2, 1, 2, 0, 7, 6, 4, 7, 2, 0, 1, 0,\n",
              "       1, 1, 2, 6, 2, 1, 7, 3, 4, 1, 2, 2, 7, 1, 4, 1, 1, 3, 2, 2, 1, 0,\n",
              "       2, 1, 6, 2, 3, 6, 2, 2, 2, 2, 2, 2, 1, 3, 3, 1, 3, 7, 2, 4, 1, 2,\n",
              "       0, 2, 0, 1, 1, 3, 0, 7, 0, 0, 6, 1, 1, 7, 2, 7, 1, 1, 0, 1, 2, 6,\n",
              "       0, 1, 7, 7, 5, 4, 1, 7, 1, 2, 7, 2, 5, 2, 4, 7, 3, 6, 1, 2, 4, 4,\n",
              "       0, 2, 4, 2, 1, 2, 2, 1, 2, 7, 2, 0, 1, 2, 3, 2, 2, 4, 3, 0, 7, 2,\n",
              "       3, 1, 1, 1, 2, 3, 6, 3, 1, 2, 1, 2, 3, 4, 1, 1, 7, 1, 0, 3, 1, 1,\n",
              "       3, 1, 2, 3, 3, 6, 4, 1, 1, 3, 2, 1, 7, 1, 0, 1, 2, 3, 3, 3, 2, 2,\n",
              "       1, 3, 0, 3, 4, 1, 1, 7, 3, 1, 2, 7, 1, 2, 4, 1, 0, 3, 3, 2, 2, 2,\n",
              "       7, 3, 1, 3, 4, 3, 2, 2, 1, 1, 0, 0, 2, 3, 0, 2, 2, 3, 2, 0, 1, 3,\n",
              "       3, 6, 3, 3, 7, 1, 2, 1, 3, 1, 0, 2, 4, 0, 7, 3, 1, 1, 1, 1, 1, 1,\n",
              "       2, 3, 3, 3, 0, 1, 1, 7, 1, 1, 2, 2, 2, 3, 2, 2, 2, 2, 3, 2, 1, 2,\n",
              "       2, 3, 1, 1, 4, 1, 2, 3, 1, 0, 2, 2, 3, 0, 1, 1, 1], dtype=int32)"
            ]
          },
          "metadata": {
            "tags": []
          },
          "execution_count": 107
        }
      ]
    },
    {
      "cell_type": "code",
      "metadata": {
        "id": "txj9M18H7sJ8",
        "colab_type": "code",
        "colab": {
          "base_uri": "https://localhost:8080/",
          "height": 581
        },
        "outputId": "1835107c-e26d-4b7b-d407-66143d96874f"
      },
      "source": [
        "pca = PCA(n_components=2 , random_state = 1)\n",
        "X_PCA = pca.fit_transform(X)"
      ],
      "execution_count": 109,
      "outputs": [
        {
          "output_type": "error",
          "ename": "ValueError",
          "evalue": "ignored",
          "traceback": [
            "\u001b[0;31m---------------------------------------------------------------------------\u001b[0m",
            "\u001b[0;31mValueError\u001b[0m                                Traceback (most recent call last)",
            "\u001b[0;32m<ipython-input-109-ece3a4a5ce38>\u001b[0m in \u001b[0;36m<module>\u001b[0;34m()\u001b[0m\n\u001b[1;32m      1\u001b[0m \u001b[0mpca\u001b[0m \u001b[0;34m=\u001b[0m \u001b[0mPCA\u001b[0m\u001b[0;34m(\u001b[0m\u001b[0mn_components\u001b[0m\u001b[0;34m=\u001b[0m\u001b[0;36m2\u001b[0m \u001b[0;34m,\u001b[0m \u001b[0mrandom_state\u001b[0m \u001b[0;34m=\u001b[0m \u001b[0;36m1\u001b[0m\u001b[0;34m)\u001b[0m\u001b[0;34m\u001b[0m\u001b[0;34m\u001b[0m\u001b[0m\n\u001b[0;32m----> 2\u001b[0;31m \u001b[0mX_PCA\u001b[0m \u001b[0;34m=\u001b[0m \u001b[0mpca\u001b[0m\u001b[0;34m.\u001b[0m\u001b[0mfit_transform\u001b[0m\u001b[0;34m(\u001b[0m\u001b[0mX\u001b[0m\u001b[0;34m)\u001b[0m\u001b[0;34m\u001b[0m\u001b[0;34m\u001b[0m\u001b[0m\n\u001b[0m",
            "\u001b[0;32m/usr/local/lib/python3.6/dist-packages/sklearn/decomposition/_pca.py\u001b[0m in \u001b[0;36mfit_transform\u001b[0;34m(self, X, y)\u001b[0m\n\u001b[1;32m    367\u001b[0m         \u001b[0mC\u001b[0m\u001b[0;34m-\u001b[0m\u001b[0mordered\u001b[0m \u001b[0marray\u001b[0m\u001b[0;34m,\u001b[0m \u001b[0muse\u001b[0m \u001b[0;34m'np.ascontiguousarray'\u001b[0m\u001b[0;34m.\u001b[0m\u001b[0;34m\u001b[0m\u001b[0;34m\u001b[0m\u001b[0m\n\u001b[1;32m    368\u001b[0m         \"\"\"\n\u001b[0;32m--> 369\u001b[0;31m         \u001b[0mU\u001b[0m\u001b[0;34m,\u001b[0m \u001b[0mS\u001b[0m\u001b[0;34m,\u001b[0m \u001b[0mV\u001b[0m \u001b[0;34m=\u001b[0m \u001b[0mself\u001b[0m\u001b[0;34m.\u001b[0m\u001b[0m_fit\u001b[0m\u001b[0;34m(\u001b[0m\u001b[0mX\u001b[0m\u001b[0;34m)\u001b[0m\u001b[0;34m\u001b[0m\u001b[0;34m\u001b[0m\u001b[0m\n\u001b[0m\u001b[1;32m    370\u001b[0m         \u001b[0mU\u001b[0m \u001b[0;34m=\u001b[0m \u001b[0mU\u001b[0m\u001b[0;34m[\u001b[0m\u001b[0;34m:\u001b[0m\u001b[0;34m,\u001b[0m \u001b[0;34m:\u001b[0m\u001b[0mself\u001b[0m\u001b[0;34m.\u001b[0m\u001b[0mn_components_\u001b[0m\u001b[0;34m]\u001b[0m\u001b[0;34m\u001b[0m\u001b[0;34m\u001b[0m\u001b[0m\n\u001b[1;32m    371\u001b[0m \u001b[0;34m\u001b[0m\u001b[0m\n",
            "\u001b[0;32m/usr/local/lib/python3.6/dist-packages/sklearn/decomposition/_pca.py\u001b[0m in \u001b[0;36m_fit\u001b[0;34m(self, X)\u001b[0m\n\u001b[1;32m    389\u001b[0m \u001b[0;34m\u001b[0m\u001b[0m\n\u001b[1;32m    390\u001b[0m         X = check_array(X, dtype=[np.float64, np.float32], ensure_2d=True,\n\u001b[0;32m--> 391\u001b[0;31m                         copy=self.copy)\n\u001b[0m\u001b[1;32m    392\u001b[0m \u001b[0;34m\u001b[0m\u001b[0m\n\u001b[1;32m    393\u001b[0m         \u001b[0;31m# Handle n_components==None\u001b[0m\u001b[0;34m\u001b[0m\u001b[0;34m\u001b[0m\u001b[0;34m\u001b[0m\u001b[0m\n",
            "\u001b[0;32m/usr/local/lib/python3.6/dist-packages/sklearn/utils/validation.py\u001b[0m in \u001b[0;36mcheck_array\u001b[0;34m(array, accept_sparse, accept_large_sparse, dtype, order, copy, force_all_finite, ensure_2d, allow_nd, ensure_min_samples, ensure_min_features, warn_on_dtype, estimator)\u001b[0m\n\u001b[1;32m    554\u001b[0m                     \u001b[0;34m\"Reshape your data either using array.reshape(-1, 1) if \"\u001b[0m\u001b[0;34m\u001b[0m\u001b[0;34m\u001b[0m\u001b[0m\n\u001b[1;32m    555\u001b[0m                     \u001b[0;34m\"your data has a single feature or array.reshape(1, -1) \"\u001b[0m\u001b[0;34m\u001b[0m\u001b[0;34m\u001b[0m\u001b[0m\n\u001b[0;32m--> 556\u001b[0;31m                     \"if it contains a single sample.\".format(array))\n\u001b[0m\u001b[1;32m    557\u001b[0m \u001b[0;34m\u001b[0m\u001b[0m\n\u001b[1;32m    558\u001b[0m         \u001b[0;31m# in the future np.flexible dtypes will be handled like object dtypes\u001b[0m\u001b[0;34m\u001b[0m\u001b[0;34m\u001b[0m\u001b[0;34m\u001b[0m\u001b[0m\n",
            "\u001b[0;31mValueError\u001b[0m: Expected 2D array, got 1D array instead:\narray=[1. 0. 3. 0. 7. 0. 3. 2. 5. 7. 6. 1. 1. 2. 6. 2. 0. 2. 2. 7. 1. 2. 7. 4.\n 6. 3. 2. 2. 1. 2. 3. 6. 2. 1. 2. 0. 7. 6. 4. 7. 2. 0. 1. 0. 1. 1. 2. 6.\n 2. 1. 7. 3. 4. 1. 2. 2. 7. 1. 4. 1. 1. 3. 2. 2. 1. 0. 2. 1. 6. 2. 3. 6.\n 2. 2. 2. 2. 2. 2. 1. 3. 3. 1. 3. 7. 2. 4. 1. 2. 0. 2. 0. 1. 1. 3. 0. 7.\n 0. 0. 6. 1. 1. 7. 2. 7. 1. 1. 0. 1. 2. 6. 0. 1. 7. 7. 5. 4. 1. 7. 1. 2.\n 7. 2. 5. 2. 4. 7. 3. 6. 1. 2. 4. 4. 0. 2. 4. 2. 1. 2. 2. 1. 2. 7. 2. 0.\n 1. 2. 3. 2. 2. 4. 3. 0. 7. 2. 3. 1. 1. 1. 2. 3. 6. 3. 1. 2. 1. 2. 3. 4.\n 1. 1. 7. 1. 0. 3. 1. 1. 3. 1. 2. 3. 3. 6. 4. 1. 1. 3. 2. 1. 7. 1. 0. 1.\n 2. 3. 3. 3. 2. 2. 1. 3. 0. 3. 4. 1. 1. 7. 3. 1. 2. 7. 1. 2. 4. 1. 0. 3.\n 3. 2. 2. 2. 7. 3. 1. 3. 4. 3. 2. 2. 1. 1. 0. 0. 2. 3. 0. 2. 2. 3. 2. 0.\n 1. 3. 3. 6. 3. 3. 7. 1. 2. 1. 3. 1. 0. 2. 4. 0. 7. 3. 1. 1. 1. 1. 1. 1.\n 2. 3. 3. 3. 0. 1. 1. 7. 1. 1. 2. 2. 2. 3. 2. 2. 2. 2. 3. 2. 1. 2. 2. 3.\n 1. 1. 4. 1. 2. 3. 1. 0. 2. 2. 3. 0. 1. 1. 1.].\nReshape your data either using array.reshape(-1, 1) if your data has a single feature or array.reshape(1, -1) if it contains a single sample."
          ]
        }
      ]
    },
    {
      "cell_type": "code",
      "metadata": {
        "id": "aiQ86tqXBexw",
        "colab_type": "code",
        "colab": {}
      },
      "source": [
        "\n",
        "k_means3 = KMeans(init = \"k-means++\", n_clusters = 3, n_init = 12)\n",
        "k_means3.fit(X)\n",
        "fig = plt.figure(figsize=(6, 4))\n",
        "colors = plt.cm.Spectral(np.linspace(0, 1, len(set(k_means3.labels_))))\n",
        "ax = fig.add_subplot(1, 1, 1)\n",
        "for k, col in zip(range(len(k_means3.cluster_centers_)), colors):\n",
        "    my_members = (k_means3.labels_ == k)\n",
        "    cluster_center = k_means3.cluster_centers_[k]\n",
        "    ax.plot(X[my_members, 0], X[my_members, 1], 'w', markerfacecolor=col, marker='.')\n",
        "    ax.plot(cluster_center[0], cluster_center[1], 'o', markerfacecolor=col,  markeredgecolor='k', markersize=6)\n",
        "plt.show()"
      ],
      "execution_count": 0,
      "outputs": []
    },
    {
      "cell_type": "code",
      "metadata": {
        "id": "PuHqyW17-L3I",
        "colab_type": "code",
        "outputId": "f74a3070-d77c-437f-b9a2-bc9f2fcb30b9",
        "colab": {
          "base_uri": "https://localhost:8080/",
          "height": 34
        }
      },
      "source": [
        "pca.explained_variance_ratio_.cumsum () [1] "
      ],
      "execution_count": 0,
      "outputs": [
        {
          "output_type": "execute_result",
          "data": {
            "text/plain": [
              "0.8671381678891079"
            ]
          },
          "metadata": {
            "tags": []
          },
          "execution_count": 127
        }
      ]
    },
    {
      "cell_type": "code",
      "metadata": {
        "id": "_TQUZi2Q8Mnk",
        "colab_type": "code",
        "outputId": "f49eafb8-6fff-4236-ec73-5315b3d86dd9",
        "colab": {
          "base_uri": "https://localhost:8080/",
          "height": 34
        }
      },
      "source": [
        "X_PCA.shape"
      ],
      "execution_count": 0,
      "outputs": [
        {
          "output_type": "execute_result",
          "data": {
            "text/plain": [
              "(5820, 2)"
            ]
          },
          "metadata": {
            "tags": []
          },
          "execution_count": 114
        }
      ]
    },
    {
      "cell_type": "markdown",
      "metadata": {
        "id": "q-YV5aO6_QML",
        "colab_type": "text"
      },
      "source": [
        "## K-Means"
      ]
    },
    {
      "cell_type": "code",
      "metadata": {
        "id": "bH1UZ2-U_VTA",
        "colab_type": "code",
        "colab": {}
      },
      "source": [
        ""
      ],
      "execution_count": 0,
      "outputs": []
    }
  ]
}